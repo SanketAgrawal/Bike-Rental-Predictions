{
 "cells": [
  {
   "cell_type": "code",
   "execution_count": 1,
   "metadata": {
    "ExecuteTime": {
     "end_time": "2019-05-29T16:40:23.207773Z",
     "start_time": "2019-05-29T16:40:21.847144Z"
    }
   },
   "outputs": [],
   "source": [
    "#Import the libraries\n",
    "import pandas as pd\n",
    "import numpy as np\n",
    "import seaborn as sb\n",
    "import matplotlib.pyplot as plt\n",
    "from xgboost import XGBRegressor\n",
    "from sklearn.feature_selection import f_classif\n",
    "from sklearn.ensemble import RandomForestRegressor\n",
    "from sklearn.metrics import mean_squared_error\n",
    "from sklearn.model_selection import train_test_split\n",
    "from sklearn.model_selection import GridSearchCV"
   ]
  },
  {
   "cell_type": "code",
   "execution_count": 2,
   "metadata": {
    "ExecuteTime": {
     "end_time": "2019-05-29T16:40:23.214891Z",
     "start_time": "2019-05-29T16:40:23.209930Z"
    }
   },
   "outputs": [],
   "source": [
    "# To show the complete datase on printing the dataframe.\n",
    "pd.set_option('display.max_rows', 800)\n",
    "pd.set_option('display.max_columns', 500)"
   ]
  },
  {
   "cell_type": "code",
   "execution_count": 3,
   "metadata": {
    "ExecuteTime": {
     "end_time": "2019-05-29T16:40:23.465593Z",
     "start_time": "2019-05-29T16:40:23.218002Z"
    }
   },
   "outputs": [],
   "source": [
    "#Load the dataset\n",
    "dataset=pd.read_csv('day.csv', index_col=0)\n",
    "dataset_backup=dataset.copy()\n",
    "# dataset=dataset_backup.copy()"
   ]
  },
  {
   "cell_type": "code",
   "execution_count": 4,
   "metadata": {
    "ExecuteTime": {
     "end_time": "2019-05-29T16:40:23.620386Z",
     "start_time": "2019-05-29T16:40:23.468489Z"
    }
   },
   "outputs": [
    {
     "data": {
      "text/html": [
       "<div>\n",
       "<style scoped>\n",
       "    .dataframe tbody tr th:only-of-type {\n",
       "        vertical-align: middle;\n",
       "    }\n",
       "\n",
       "    .dataframe tbody tr th {\n",
       "        vertical-align: top;\n",
       "    }\n",
       "\n",
       "    .dataframe thead th {\n",
       "        text-align: right;\n",
       "    }\n",
       "</style>\n",
       "<table border=\"1\" class=\"dataframe\">\n",
       "  <thead>\n",
       "    <tr style=\"text-align: right;\">\n",
       "      <th></th>\n",
       "      <th>dteday</th>\n",
       "      <th>season</th>\n",
       "      <th>yr</th>\n",
       "      <th>mnth</th>\n",
       "      <th>holiday</th>\n",
       "      <th>weekday</th>\n",
       "      <th>workingday</th>\n",
       "      <th>weathersit</th>\n",
       "      <th>temp</th>\n",
       "      <th>atemp</th>\n",
       "      <th>hum</th>\n",
       "      <th>windspeed</th>\n",
       "      <th>casual</th>\n",
       "      <th>registered</th>\n",
       "      <th>cnt</th>\n",
       "    </tr>\n",
       "    <tr>\n",
       "      <th>instant</th>\n",
       "      <th></th>\n",
       "      <th></th>\n",
       "      <th></th>\n",
       "      <th></th>\n",
       "      <th></th>\n",
       "      <th></th>\n",
       "      <th></th>\n",
       "      <th></th>\n",
       "      <th></th>\n",
       "      <th></th>\n",
       "      <th></th>\n",
       "      <th></th>\n",
       "      <th></th>\n",
       "      <th></th>\n",
       "      <th></th>\n",
       "    </tr>\n",
       "  </thead>\n",
       "  <tbody>\n",
       "    <tr>\n",
       "      <th>1</th>\n",
       "      <td>2011-01-01</td>\n",
       "      <td>1</td>\n",
       "      <td>0</td>\n",
       "      <td>1</td>\n",
       "      <td>0</td>\n",
       "      <td>6</td>\n",
       "      <td>0</td>\n",
       "      <td>2</td>\n",
       "      <td>0.344167</td>\n",
       "      <td>0.363625</td>\n",
       "      <td>0.805833</td>\n",
       "      <td>0.160446</td>\n",
       "      <td>331</td>\n",
       "      <td>654</td>\n",
       "      <td>985</td>\n",
       "    </tr>\n",
       "    <tr>\n",
       "      <th>2</th>\n",
       "      <td>2011-01-02</td>\n",
       "      <td>1</td>\n",
       "      <td>0</td>\n",
       "      <td>1</td>\n",
       "      <td>0</td>\n",
       "      <td>0</td>\n",
       "      <td>0</td>\n",
       "      <td>2</td>\n",
       "      <td>0.363478</td>\n",
       "      <td>0.353739</td>\n",
       "      <td>0.696087</td>\n",
       "      <td>0.248539</td>\n",
       "      <td>131</td>\n",
       "      <td>670</td>\n",
       "      <td>801</td>\n",
       "    </tr>\n",
       "    <tr>\n",
       "      <th>3</th>\n",
       "      <td>2011-01-03</td>\n",
       "      <td>1</td>\n",
       "      <td>0</td>\n",
       "      <td>1</td>\n",
       "      <td>0</td>\n",
       "      <td>1</td>\n",
       "      <td>1</td>\n",
       "      <td>1</td>\n",
       "      <td>0.196364</td>\n",
       "      <td>0.189405</td>\n",
       "      <td>0.437273</td>\n",
       "      <td>0.248309</td>\n",
       "      <td>120</td>\n",
       "      <td>1229</td>\n",
       "      <td>1349</td>\n",
       "    </tr>\n",
       "    <tr>\n",
       "      <th>4</th>\n",
       "      <td>2011-01-04</td>\n",
       "      <td>1</td>\n",
       "      <td>0</td>\n",
       "      <td>1</td>\n",
       "      <td>0</td>\n",
       "      <td>2</td>\n",
       "      <td>1</td>\n",
       "      <td>1</td>\n",
       "      <td>0.200000</td>\n",
       "      <td>0.212122</td>\n",
       "      <td>0.590435</td>\n",
       "      <td>0.160296</td>\n",
       "      <td>108</td>\n",
       "      <td>1454</td>\n",
       "      <td>1562</td>\n",
       "    </tr>\n",
       "    <tr>\n",
       "      <th>5</th>\n",
       "      <td>2011-01-05</td>\n",
       "      <td>1</td>\n",
       "      <td>0</td>\n",
       "      <td>1</td>\n",
       "      <td>0</td>\n",
       "      <td>3</td>\n",
       "      <td>1</td>\n",
       "      <td>1</td>\n",
       "      <td>0.226957</td>\n",
       "      <td>0.229270</td>\n",
       "      <td>0.436957</td>\n",
       "      <td>0.186900</td>\n",
       "      <td>82</td>\n",
       "      <td>1518</td>\n",
       "      <td>1600</td>\n",
       "    </tr>\n",
       "    <tr>\n",
       "      <th>6</th>\n",
       "      <td>2011-01-06</td>\n",
       "      <td>1</td>\n",
       "      <td>0</td>\n",
       "      <td>1</td>\n",
       "      <td>0</td>\n",
       "      <td>4</td>\n",
       "      <td>1</td>\n",
       "      <td>1</td>\n",
       "      <td>0.204348</td>\n",
       "      <td>0.233209</td>\n",
       "      <td>0.518261</td>\n",
       "      <td>0.089565</td>\n",
       "      <td>88</td>\n",
       "      <td>1518</td>\n",
       "      <td>1606</td>\n",
       "    </tr>\n",
       "    <tr>\n",
       "      <th>7</th>\n",
       "      <td>2011-01-07</td>\n",
       "      <td>1</td>\n",
       "      <td>0</td>\n",
       "      <td>1</td>\n",
       "      <td>0</td>\n",
       "      <td>5</td>\n",
       "      <td>1</td>\n",
       "      <td>2</td>\n",
       "      <td>0.196522</td>\n",
       "      <td>0.208839</td>\n",
       "      <td>0.498696</td>\n",
       "      <td>0.168726</td>\n",
       "      <td>148</td>\n",
       "      <td>1362</td>\n",
       "      <td>1510</td>\n",
       "    </tr>\n",
       "    <tr>\n",
       "      <th>8</th>\n",
       "      <td>2011-01-08</td>\n",
       "      <td>1</td>\n",
       "      <td>0</td>\n",
       "      <td>1</td>\n",
       "      <td>0</td>\n",
       "      <td>6</td>\n",
       "      <td>0</td>\n",
       "      <td>2</td>\n",
       "      <td>0.165000</td>\n",
       "      <td>0.162254</td>\n",
       "      <td>0.535833</td>\n",
       "      <td>0.266804</td>\n",
       "      <td>68</td>\n",
       "      <td>891</td>\n",
       "      <td>959</td>\n",
       "    </tr>\n",
       "    <tr>\n",
       "      <th>9</th>\n",
       "      <td>2011-01-09</td>\n",
       "      <td>1</td>\n",
       "      <td>0</td>\n",
       "      <td>1</td>\n",
       "      <td>0</td>\n",
       "      <td>0</td>\n",
       "      <td>0</td>\n",
       "      <td>1</td>\n",
       "      <td>0.138333</td>\n",
       "      <td>0.116175</td>\n",
       "      <td>0.434167</td>\n",
       "      <td>0.361950</td>\n",
       "      <td>54</td>\n",
       "      <td>768</td>\n",
       "      <td>822</td>\n",
       "    </tr>\n",
       "    <tr>\n",
       "      <th>10</th>\n",
       "      <td>2011-01-10</td>\n",
       "      <td>1</td>\n",
       "      <td>0</td>\n",
       "      <td>1</td>\n",
       "      <td>0</td>\n",
       "      <td>1</td>\n",
       "      <td>1</td>\n",
       "      <td>1</td>\n",
       "      <td>0.150833</td>\n",
       "      <td>0.150888</td>\n",
       "      <td>0.482917</td>\n",
       "      <td>0.223267</td>\n",
       "      <td>41</td>\n",
       "      <td>1280</td>\n",
       "      <td>1321</td>\n",
       "    </tr>\n",
       "  </tbody>\n",
       "</table>\n",
       "</div>"
      ],
      "text/plain": [
       "             dteday  season  yr  mnth  holiday  weekday  workingday  \\\n",
       "instant                                                               \n",
       "1        2011-01-01       1   0     1        0        6           0   \n",
       "2        2011-01-02       1   0     1        0        0           0   \n",
       "3        2011-01-03       1   0     1        0        1           1   \n",
       "4        2011-01-04       1   0     1        0        2           1   \n",
       "5        2011-01-05       1   0     1        0        3           1   \n",
       "6        2011-01-06       1   0     1        0        4           1   \n",
       "7        2011-01-07       1   0     1        0        5           1   \n",
       "8        2011-01-08       1   0     1        0        6           0   \n",
       "9        2011-01-09       1   0     1        0        0           0   \n",
       "10       2011-01-10       1   0     1        0        1           1   \n",
       "\n",
       "         weathersit      temp     atemp       hum  windspeed  casual  \\\n",
       "instant                                                                \n",
       "1                 2  0.344167  0.363625  0.805833   0.160446     331   \n",
       "2                 2  0.363478  0.353739  0.696087   0.248539     131   \n",
       "3                 1  0.196364  0.189405  0.437273   0.248309     120   \n",
       "4                 1  0.200000  0.212122  0.590435   0.160296     108   \n",
       "5                 1  0.226957  0.229270  0.436957   0.186900      82   \n",
       "6                 1  0.204348  0.233209  0.518261   0.089565      88   \n",
       "7                 2  0.196522  0.208839  0.498696   0.168726     148   \n",
       "8                 2  0.165000  0.162254  0.535833   0.266804      68   \n",
       "9                 1  0.138333  0.116175  0.434167   0.361950      54   \n",
       "10                1  0.150833  0.150888  0.482917   0.223267      41   \n",
       "\n",
       "         registered   cnt  \n",
       "instant                    \n",
       "1               654   985  \n",
       "2               670   801  \n",
       "3              1229  1349  \n",
       "4              1454  1562  \n",
       "5              1518  1600  \n",
       "6              1518  1606  \n",
       "7              1362  1510  \n",
       "8               891   959  \n",
       "9               768   822  \n",
       "10             1280  1321  "
      ]
     },
     "execution_count": 4,
     "metadata": {},
     "output_type": "execute_result"
    }
   ],
   "source": [
    "#Print the sample data\n",
    "dataset.head(10)"
   ]
  },
  {
   "cell_type": "code",
   "execution_count": 5,
   "metadata": {
    "ExecuteTime": {
     "end_time": "2019-05-29T16:40:23.700161Z",
     "start_time": "2019-05-29T16:40:23.623708Z"
    }
   },
   "outputs": [
    {
     "data": {
      "text/plain": [
       "(731, 15)"
      ]
     },
     "execution_count": 5,
     "metadata": {},
     "output_type": "execute_result"
    }
   ],
   "source": [
    "#Print the dataset shape\n",
    "dataset.shape"
   ]
  },
  {
   "cell_type": "code",
   "execution_count": 6,
   "metadata": {
    "ExecuteTime": {
     "end_time": "2019-05-29T16:40:24.090913Z",
     "start_time": "2019-05-29T16:40:23.703960Z"
    }
   },
   "outputs": [
    {
     "data": {
      "text/html": [
       "<div>\n",
       "<style scoped>\n",
       "    .dataframe tbody tr th:only-of-type {\n",
       "        vertical-align: middle;\n",
       "    }\n",
       "\n",
       "    .dataframe tbody tr th {\n",
       "        vertical-align: top;\n",
       "    }\n",
       "\n",
       "    .dataframe thead th {\n",
       "        text-align: right;\n",
       "    }\n",
       "</style>\n",
       "<table border=\"1\" class=\"dataframe\">\n",
       "  <thead>\n",
       "    <tr style=\"text-align: right;\">\n",
       "      <th></th>\n",
       "      <th>season</th>\n",
       "      <th>yr</th>\n",
       "      <th>mnth</th>\n",
       "      <th>holiday</th>\n",
       "      <th>weekday</th>\n",
       "      <th>workingday</th>\n",
       "      <th>weathersit</th>\n",
       "      <th>temp</th>\n",
       "      <th>atemp</th>\n",
       "      <th>hum</th>\n",
       "      <th>windspeed</th>\n",
       "      <th>casual</th>\n",
       "      <th>registered</th>\n",
       "      <th>cnt</th>\n",
       "    </tr>\n",
       "  </thead>\n",
       "  <tbody>\n",
       "    <tr>\n",
       "      <th>count</th>\n",
       "      <td>731.000000</td>\n",
       "      <td>731.000000</td>\n",
       "      <td>731.000000</td>\n",
       "      <td>731.000000</td>\n",
       "      <td>731.000000</td>\n",
       "      <td>731.000000</td>\n",
       "      <td>731.000000</td>\n",
       "      <td>731.000000</td>\n",
       "      <td>731.000000</td>\n",
       "      <td>731.000000</td>\n",
       "      <td>731.000000</td>\n",
       "      <td>731.000000</td>\n",
       "      <td>731.000000</td>\n",
       "      <td>731.000000</td>\n",
       "    </tr>\n",
       "    <tr>\n",
       "      <th>mean</th>\n",
       "      <td>2.496580</td>\n",
       "      <td>0.500684</td>\n",
       "      <td>6.519836</td>\n",
       "      <td>0.028728</td>\n",
       "      <td>2.997264</td>\n",
       "      <td>0.683995</td>\n",
       "      <td>1.395349</td>\n",
       "      <td>0.495385</td>\n",
       "      <td>0.474354</td>\n",
       "      <td>0.627894</td>\n",
       "      <td>0.190486</td>\n",
       "      <td>848.176471</td>\n",
       "      <td>3656.172367</td>\n",
       "      <td>4504.348837</td>\n",
       "    </tr>\n",
       "    <tr>\n",
       "      <th>std</th>\n",
       "      <td>1.110807</td>\n",
       "      <td>0.500342</td>\n",
       "      <td>3.451913</td>\n",
       "      <td>0.167155</td>\n",
       "      <td>2.004787</td>\n",
       "      <td>0.465233</td>\n",
       "      <td>0.544894</td>\n",
       "      <td>0.183051</td>\n",
       "      <td>0.162961</td>\n",
       "      <td>0.142429</td>\n",
       "      <td>0.077498</td>\n",
       "      <td>686.622488</td>\n",
       "      <td>1560.256377</td>\n",
       "      <td>1937.211452</td>\n",
       "    </tr>\n",
       "    <tr>\n",
       "      <th>min</th>\n",
       "      <td>1.000000</td>\n",
       "      <td>0.000000</td>\n",
       "      <td>1.000000</td>\n",
       "      <td>0.000000</td>\n",
       "      <td>0.000000</td>\n",
       "      <td>0.000000</td>\n",
       "      <td>1.000000</td>\n",
       "      <td>0.059130</td>\n",
       "      <td>0.079070</td>\n",
       "      <td>0.000000</td>\n",
       "      <td>0.022392</td>\n",
       "      <td>2.000000</td>\n",
       "      <td>20.000000</td>\n",
       "      <td>22.000000</td>\n",
       "    </tr>\n",
       "    <tr>\n",
       "      <th>25%</th>\n",
       "      <td>2.000000</td>\n",
       "      <td>0.000000</td>\n",
       "      <td>4.000000</td>\n",
       "      <td>0.000000</td>\n",
       "      <td>1.000000</td>\n",
       "      <td>0.000000</td>\n",
       "      <td>1.000000</td>\n",
       "      <td>0.337083</td>\n",
       "      <td>0.337842</td>\n",
       "      <td>0.520000</td>\n",
       "      <td>0.134950</td>\n",
       "      <td>315.500000</td>\n",
       "      <td>2497.000000</td>\n",
       "      <td>3152.000000</td>\n",
       "    </tr>\n",
       "    <tr>\n",
       "      <th>50%</th>\n",
       "      <td>3.000000</td>\n",
       "      <td>1.000000</td>\n",
       "      <td>7.000000</td>\n",
       "      <td>0.000000</td>\n",
       "      <td>3.000000</td>\n",
       "      <td>1.000000</td>\n",
       "      <td>1.000000</td>\n",
       "      <td>0.498333</td>\n",
       "      <td>0.486733</td>\n",
       "      <td>0.626667</td>\n",
       "      <td>0.180975</td>\n",
       "      <td>713.000000</td>\n",
       "      <td>3662.000000</td>\n",
       "      <td>4548.000000</td>\n",
       "    </tr>\n",
       "    <tr>\n",
       "      <th>75%</th>\n",
       "      <td>3.000000</td>\n",
       "      <td>1.000000</td>\n",
       "      <td>10.000000</td>\n",
       "      <td>0.000000</td>\n",
       "      <td>5.000000</td>\n",
       "      <td>1.000000</td>\n",
       "      <td>2.000000</td>\n",
       "      <td>0.655417</td>\n",
       "      <td>0.608602</td>\n",
       "      <td>0.730209</td>\n",
       "      <td>0.233214</td>\n",
       "      <td>1096.000000</td>\n",
       "      <td>4776.500000</td>\n",
       "      <td>5956.000000</td>\n",
       "    </tr>\n",
       "    <tr>\n",
       "      <th>max</th>\n",
       "      <td>4.000000</td>\n",
       "      <td>1.000000</td>\n",
       "      <td>12.000000</td>\n",
       "      <td>1.000000</td>\n",
       "      <td>6.000000</td>\n",
       "      <td>1.000000</td>\n",
       "      <td>3.000000</td>\n",
       "      <td>0.861667</td>\n",
       "      <td>0.840896</td>\n",
       "      <td>0.972500</td>\n",
       "      <td>0.507463</td>\n",
       "      <td>3410.000000</td>\n",
       "      <td>6946.000000</td>\n",
       "      <td>8714.000000</td>\n",
       "    </tr>\n",
       "  </tbody>\n",
       "</table>\n",
       "</div>"
      ],
      "text/plain": [
       "           season          yr        mnth     holiday     weekday  workingday  \\\n",
       "count  731.000000  731.000000  731.000000  731.000000  731.000000  731.000000   \n",
       "mean     2.496580    0.500684    6.519836    0.028728    2.997264    0.683995   \n",
       "std      1.110807    0.500342    3.451913    0.167155    2.004787    0.465233   \n",
       "min      1.000000    0.000000    1.000000    0.000000    0.000000    0.000000   \n",
       "25%      2.000000    0.000000    4.000000    0.000000    1.000000    0.000000   \n",
       "50%      3.000000    1.000000    7.000000    0.000000    3.000000    1.000000   \n",
       "75%      3.000000    1.000000   10.000000    0.000000    5.000000    1.000000   \n",
       "max      4.000000    1.000000   12.000000    1.000000    6.000000    1.000000   \n",
       "\n",
       "       weathersit        temp       atemp         hum   windspeed  \\\n",
       "count  731.000000  731.000000  731.000000  731.000000  731.000000   \n",
       "mean     1.395349    0.495385    0.474354    0.627894    0.190486   \n",
       "std      0.544894    0.183051    0.162961    0.142429    0.077498   \n",
       "min      1.000000    0.059130    0.079070    0.000000    0.022392   \n",
       "25%      1.000000    0.337083    0.337842    0.520000    0.134950   \n",
       "50%      1.000000    0.498333    0.486733    0.626667    0.180975   \n",
       "75%      2.000000    0.655417    0.608602    0.730209    0.233214   \n",
       "max      3.000000    0.861667    0.840896    0.972500    0.507463   \n",
       "\n",
       "            casual   registered          cnt  \n",
       "count   731.000000   731.000000   731.000000  \n",
       "mean    848.176471  3656.172367  4504.348837  \n",
       "std     686.622488  1560.256377  1937.211452  \n",
       "min       2.000000    20.000000    22.000000  \n",
       "25%     315.500000  2497.000000  3152.000000  \n",
       "50%     713.000000  3662.000000  4548.000000  \n",
       "75%    1096.000000  4776.500000  5956.000000  \n",
       "max    3410.000000  6946.000000  8714.000000  "
      ]
     },
     "execution_count": 6,
     "metadata": {},
     "output_type": "execute_result"
    }
   ],
   "source": [
    "#Dataset characterstics\n",
    "dataset.describe()"
   ]
  },
  {
   "cell_type": "code",
   "execution_count": 7,
   "metadata": {
    "ExecuteTime": {
     "end_time": "2019-05-29T16:40:24.110330Z",
     "start_time": "2019-05-29T16:40:24.093215Z"
    }
   },
   "outputs": [
    {
     "data": {
      "text/plain": [
       "Index(['dteday', 'season', 'yr', 'mnth', 'holiday', 'weekday', 'workingday',\n",
       "       'weathersit', 'temp', 'atemp', 'hum', 'windspeed', 'casual',\n",
       "       'registered', 'cnt'],\n",
       "      dtype='object')"
      ]
     },
     "execution_count": 7,
     "metadata": {},
     "output_type": "execute_result"
    }
   ],
   "source": [
    "#Dataset column names\n",
    "dataset.columns"
   ]
  },
  {
   "cell_type": "code",
   "execution_count": 8,
   "metadata": {
    "ExecuteTime": {
     "end_time": "2019-05-29T16:40:24.201268Z",
     "start_time": "2019-05-29T16:40:24.112153Z"
    }
   },
   "outputs": [],
   "source": [
    "#Catagorizing the data into catagorical, continious, and target variables\n",
    "cont_vars=['temp', 'atemp', 'hum', 'windspeed']\n",
    "cat_vars=['season', 'yr', 'mnth', 'holiday', 'weekday', 'workingday', 'weathersit']\n",
    "target_vars=['casual', 'registered', 'cnt']"
   ]
  },
  {
   "cell_type": "code",
   "execution_count": 9,
   "metadata": {
    "ExecuteTime": {
     "end_time": "2019-05-29T16:40:24.293592Z",
     "start_time": "2019-05-29T16:40:24.208256Z"
    }
   },
   "outputs": [
    {
     "data": {
      "text/plain": [
       "dteday         object\n",
       "season          int64\n",
       "yr              int64\n",
       "mnth            int64\n",
       "holiday         int64\n",
       "weekday         int64\n",
       "workingday      int64\n",
       "weathersit      int64\n",
       "temp          float64\n",
       "atemp         float64\n",
       "hum           float64\n",
       "windspeed     float64\n",
       "casual          int64\n",
       "registered      int64\n",
       "cnt             int64\n",
       "dtype: object"
      ]
     },
     "execution_count": 9,
     "metadata": {},
     "output_type": "execute_result"
    }
   ],
   "source": [
    "#variables datatypes\n",
    "dataset.dtypes"
   ]
  },
  {
   "cell_type": "code",
   "execution_count": 10,
   "metadata": {
    "ExecuteTime": {
     "end_time": "2019-05-29T16:40:24.392862Z",
     "start_time": "2019-05-29T16:40:24.299678Z"
    }
   },
   "outputs": [
    {
     "name": "stdout",
     "output_type": "stream",
     "text": [
      "temp 499\n",
      "atemp 690\n",
      "hum 595\n",
      "windspeed 650\n",
      "season 4\n",
      "yr 2\n",
      "mnth 12\n",
      "holiday 2\n",
      "weekday 7\n",
      "workingday 2\n",
      "weathersit 3\n",
      "casual 606\n",
      "registered 679\n",
      "cnt 696\n"
     ]
    }
   ],
   "source": [
    "# Print the unique value count for each columns\n",
    "for column in cont_vars+cat_vars+target_vars:\n",
    "    print(column, dataset[column].unique().shape[0])"
   ]
  },
  {
   "cell_type": "markdown",
   "metadata": {},
   "source": [
    "# Missing Value Analysis"
   ]
  },
  {
   "cell_type": "code",
   "execution_count": 11,
   "metadata": {
    "ExecuteTime": {
     "end_time": "2019-05-29T16:40:24.507302Z",
     "start_time": "2019-05-29T16:40:24.395912Z"
    }
   },
   "outputs": [
    {
     "name": "stdout",
     "output_type": "stream",
     "text": [
      "     Variables  Missing_percentage\n",
      "0       dteday                 0.0\n",
      "1       season                 0.0\n",
      "2           yr                 0.0\n",
      "3         mnth                 0.0\n",
      "4      holiday                 0.0\n",
      "5      weekday                 0.0\n",
      "6   workingday                 0.0\n",
      "7   weathersit                 0.0\n",
      "8         temp                 0.0\n",
      "9        atemp                 0.0\n",
      "10         hum                 0.0\n",
      "11   windspeed                 0.0\n",
      "12      casual                 0.0\n",
      "13  registered                 0.0\n",
      "14         cnt                 0.0\n"
     ]
    }
   ],
   "source": [
    "#Create dataframe with missing percentage\n",
    "missing_val = pd.DataFrame(dataset.isnull().sum())\n",
    "\n",
    "#Reset index\n",
    "missing_val = missing_val.reset_index()\n",
    "\n",
    "#Rename variable\n",
    "missing_val = missing_val.rename(columns = {'index': 'Variables', 0: 'Missing_percentage'})\n",
    "\n",
    "#Calculate percentage\n",
    "missing_val['Missing_percentage'] = (missing_val['Missing_percentage']/len(dataset))*100\n",
    "\n",
    "#descending order\n",
    "missing_val = missing_val.sort_values('Missing_percentage', ascending = False).reset_index(drop = True)\n",
    "\n",
    "#save output results \n",
    "missing_val.to_csv(\"Miising_perc.csv\", index = False)\n",
    "\n",
    "print(missing_val)"
   ]
  },
  {
   "cell_type": "markdown",
   "metadata": {},
   "source": [
    "# Outlier Analysis"
   ]
  },
  {
   "cell_type": "code",
   "execution_count": 12,
   "metadata": {
    "ExecuteTime": {
     "end_time": "2019-05-29T16:40:25.175932Z",
     "start_time": "2019-05-29T16:40:24.509805Z"
    }
   },
   "outputs": [
    {
     "data": {
      "image/png": "[encoded data removed]",
      "text/plain": [
       "<Figure size 432x288 with 1 Axes>"
      ]
     },
     "metadata": {
      "needs_background": "light"
     },
     "output_type": "display_data"
    },
    {
     "data": {
      "image/png": "[encoded data removed]",
      "text/plain": [
       "<Figure size 432x288 with 1 Axes>"
      ]
     },
     "metadata": {
      "needs_background": "light"
     },
     "output_type": "display_data"
    },
    {
     "data": {
      "image/png": "[encoded data removed]",
      "text/plain": [
       "<Figure size 432x288 with 1 Axes>"
      ]
     },
     "metadata": {
      "needs_background": "light"
     },
     "output_type": "display_data"
    },
    {
     "data": {
      "image/png": "[encoded data removed]",
      "text/plain": [
       "<Figure size 432x288 with 1 Axes>"
      ]
     },
     "metadata": {
      "needs_background": "light"
     },
     "output_type": "display_data"
    }
   ],
   "source": [
    "# Plot box plot for each of the column to check the outliers\n",
    "for i in [8, 9, 10, 11]:\n",
    "    sb.boxplot(data=dataset.iloc[:,i:i+1])\n",
    "    plt.savefig('./outlier/'+dataset.columns[i]+'.png')\n",
    "    plt.show()"
   ]
  },
  {
   "cell_type": "code",
   "execution_count": 13,
   "metadata": {
    "ExecuteTime": {
     "end_time": "2019-05-29T16:40:25.303040Z",
     "start_time": "2019-05-29T16:40:25.178753Z"
    },
    "scrolled": true
   },
   "outputs": [
    {
     "name": "stdout",
     "output_type": "stream",
     "text": [
      "NaN count before outlier detection= 0\n",
      "For column temp max_val= 1.1329160000000003 min_val= -0.14041600000000015\n",
      "Series([], Name: temp, dtype: float64)\n",
      "Series([], Name: temp, dtype: float64)\n",
      "For column temp number of outliers replaced with NaN= 0\n",
      "For column atemp max_val= 1.0147412500000002 min_val= -0.06829675000000018\n",
      "Series([], Name: atemp, dtype: float64)\n",
      "Series([], Name: atemp, dtype: float64)\n",
      "For column atemp number of outliers replaced with NaN= 0\n",
      "For column hum max_val= 1.0455212500000002 min_val= 0.20468725\n",
      "instant\n",
      "50    0.187917\n",
      "69    0.000000\n",
      "Name: hum, dtype: float64\n",
      "Series([], Name: hum, dtype: float64)\n",
      "For column hum number of outliers replaced with NaN= 0\n",
      "For column windspeed max_val= 0.38061125 min_val= -0.012446750000000034\n",
      "Series([], Name: windspeed, dtype: float64)\n",
      "instant\n",
      "45     0.417908\n",
      "50     0.507463\n",
      "94     0.385571\n",
      "95     0.388067\n",
      "293    0.422275\n",
      "383    0.415429\n",
      "408    0.409212\n",
      "421    0.421642\n",
      "433    0.441563\n",
      "434    0.414800\n",
      "451    0.386821\n",
      "667    0.398008\n",
      "722    0.407346\n",
      "Name: windspeed, dtype: float64\n",
      "For column windspeed number of outliers replaced with NaN= 0\n",
      "NaN count after outlier detection= 0\n"
     ]
    }
   ],
   "source": [
    "# Replace the outliers with the nan and print how many outliers are there in each column.\n",
    "remove=False\n",
    "print(\"NaN count before outlier detection=\",dataset.isnull().sum().sum())\n",
    "columns=dataset.columns\n",
    "for i in [8, 9, 10, 11]:\n",
    "    initial=dataset.isnull().sum().sum()\n",
    "    q25, q75=dataset.iloc[:,i].quantile(0.25), dataset.iloc[:,i].quantile(0.75)\n",
    "    iqr = q75 - q25\n",
    "\n",
    "    min_val = q25 - (iqr*1.5)\n",
    "    max_val = q75 + (iqr*1.5)\n",
    "    if remove:\n",
    "#         dataset = dataset.drop(dataset[dataset.iloc[:,i] < min_val].index)\n",
    "#         dataset = dataset.drop(dataset[dataset.iloc[:,i] > max_val].index)\n",
    "        print(\"For column\",columns[i],\"number of outliers replaced with NaN=\",dataset.isnull().sum().sum()-initial)\n",
    "    else:\n",
    "        print(\"For column\",columns[i], \"max_val=\",max_val, 'min_val=',min_val)\n",
    "        print(dataset.loc[dataset[columns[i]]<min_val,columns[i]])\n",
    "        print(dataset.loc[dataset[columns[i]]>max_val,columns[i]])\n",
    "#         dataset.loc[dataset[columns[i]]<min_val,columns[i]] = np.nan\n",
    "#         dataset.loc[dataset[columns[i]]>max_val,columns[i]] = np.nan\n",
    "        print(\"For column\",columns[i],\"number of outliers replaced with NaN=\",dataset.isnull().sum().sum()-initial)\n",
    "print(\"NaN count after outlier detection=\",dataset.isnull().sum().sum())"
   ]
  },
  {
   "cell_type": "markdown",
   "metadata": {},
   "source": [
    "# Special Cases?"
   ]
  },
  {
   "cell_type": "code",
   "execution_count": 14,
   "metadata": {
    "ExecuteTime": {
     "end_time": "2019-05-29T16:40:25.344432Z",
     "start_time": "2019-05-29T16:40:25.306454Z"
    },
    "scrolled": true
   },
   "outputs": [
    {
     "data": {
      "text/html": [
       "<div>\n",
       "<style scoped>\n",
       "    .dataframe tbody tr th:only-of-type {\n",
       "        vertical-align: middle;\n",
       "    }\n",
       "\n",
       "    .dataframe tbody tr th {\n",
       "        vertical-align: top;\n",
       "    }\n",
       "\n",
       "    .dataframe thead th {\n",
       "        text-align: right;\n",
       "    }\n",
       "</style>\n",
       "<table border=\"1\" class=\"dataframe\">\n",
       "  <thead>\n",
       "    <tr style=\"text-align: right;\">\n",
       "      <th></th>\n",
       "      <th>dteday</th>\n",
       "      <th>season</th>\n",
       "      <th>yr</th>\n",
       "      <th>mnth</th>\n",
       "      <th>holiday</th>\n",
       "      <th>weekday</th>\n",
       "      <th>workingday</th>\n",
       "      <th>weathersit</th>\n",
       "      <th>temp</th>\n",
       "      <th>atemp</th>\n",
       "      <th>hum</th>\n",
       "      <th>windspeed</th>\n",
       "      <th>casual</th>\n",
       "      <th>registered</th>\n",
       "      <th>cnt</th>\n",
       "    </tr>\n",
       "    <tr>\n",
       "      <th>instant</th>\n",
       "      <th></th>\n",
       "      <th></th>\n",
       "      <th></th>\n",
       "      <th></th>\n",
       "      <th></th>\n",
       "      <th></th>\n",
       "      <th></th>\n",
       "      <th></th>\n",
       "      <th></th>\n",
       "      <th></th>\n",
       "      <th></th>\n",
       "      <th></th>\n",
       "      <th></th>\n",
       "      <th></th>\n",
       "      <th></th>\n",
       "    </tr>\n",
       "  </thead>\n",
       "  <tbody>\n",
       "    <tr>\n",
       "      <th>45</th>\n",
       "      <td>2011-02-14</td>\n",
       "      <td>1</td>\n",
       "      <td>0</td>\n",
       "      <td>2</td>\n",
       "      <td>0</td>\n",
       "      <td>1</td>\n",
       "      <td>1</td>\n",
       "      <td>1</td>\n",
       "      <td>0.415000</td>\n",
       "      <td>0.398350</td>\n",
       "      <td>0.375833</td>\n",
       "      <td>0.417908</td>\n",
       "      <td>208</td>\n",
       "      <td>1705</td>\n",
       "      <td>1913</td>\n",
       "    </tr>\n",
       "    <tr>\n",
       "      <th>50</th>\n",
       "      <td>2011-02-19</td>\n",
       "      <td>1</td>\n",
       "      <td>0</td>\n",
       "      <td>2</td>\n",
       "      <td>0</td>\n",
       "      <td>6</td>\n",
       "      <td>0</td>\n",
       "      <td>1</td>\n",
       "      <td>0.399167</td>\n",
       "      <td>0.391404</td>\n",
       "      <td>0.187917</td>\n",
       "      <td>0.507463</td>\n",
       "      <td>532</td>\n",
       "      <td>1103</td>\n",
       "      <td>1635</td>\n",
       "    </tr>\n",
       "    <tr>\n",
       "      <th>69</th>\n",
       "      <td>2011-03-10</td>\n",
       "      <td>1</td>\n",
       "      <td>0</td>\n",
       "      <td>3</td>\n",
       "      <td>0</td>\n",
       "      <td>4</td>\n",
       "      <td>1</td>\n",
       "      <td>3</td>\n",
       "      <td>0.389091</td>\n",
       "      <td>0.385668</td>\n",
       "      <td>0.000000</td>\n",
       "      <td>0.261877</td>\n",
       "      <td>46</td>\n",
       "      <td>577</td>\n",
       "      <td>623</td>\n",
       "    </tr>\n",
       "    <tr>\n",
       "      <th>94</th>\n",
       "      <td>2011-04-04</td>\n",
       "      <td>2</td>\n",
       "      <td>0</td>\n",
       "      <td>4</td>\n",
       "      <td>0</td>\n",
       "      <td>1</td>\n",
       "      <td>1</td>\n",
       "      <td>1</td>\n",
       "      <td>0.573333</td>\n",
       "      <td>0.542929</td>\n",
       "      <td>0.426250</td>\n",
       "      <td>0.385571</td>\n",
       "      <td>734</td>\n",
       "      <td>2381</td>\n",
       "      <td>3115</td>\n",
       "    </tr>\n",
       "    <tr>\n",
       "      <th>95</th>\n",
       "      <td>2011-04-05</td>\n",
       "      <td>2</td>\n",
       "      <td>0</td>\n",
       "      <td>4</td>\n",
       "      <td>0</td>\n",
       "      <td>2</td>\n",
       "      <td>1</td>\n",
       "      <td>2</td>\n",
       "      <td>0.414167</td>\n",
       "      <td>0.398350</td>\n",
       "      <td>0.642083</td>\n",
       "      <td>0.388067</td>\n",
       "      <td>167</td>\n",
       "      <td>1628</td>\n",
       "      <td>1795</td>\n",
       "    </tr>\n",
       "    <tr>\n",
       "      <th>293</th>\n",
       "      <td>2011-10-20</td>\n",
       "      <td>4</td>\n",
       "      <td>0</td>\n",
       "      <td>10</td>\n",
       "      <td>0</td>\n",
       "      <td>4</td>\n",
       "      <td>1</td>\n",
       "      <td>1</td>\n",
       "      <td>0.475833</td>\n",
       "      <td>0.466525</td>\n",
       "      <td>0.636250</td>\n",
       "      <td>0.422275</td>\n",
       "      <td>471</td>\n",
       "      <td>3724</td>\n",
       "      <td>4195</td>\n",
       "    </tr>\n",
       "    <tr>\n",
       "      <th>383</th>\n",
       "      <td>2012-01-18</td>\n",
       "      <td>1</td>\n",
       "      <td>1</td>\n",
       "      <td>1</td>\n",
       "      <td>0</td>\n",
       "      <td>3</td>\n",
       "      <td>1</td>\n",
       "      <td>1</td>\n",
       "      <td>0.303333</td>\n",
       "      <td>0.275254</td>\n",
       "      <td>0.443333</td>\n",
       "      <td>0.415429</td>\n",
       "      <td>109</td>\n",
       "      <td>3267</td>\n",
       "      <td>3376</td>\n",
       "    </tr>\n",
       "    <tr>\n",
       "      <th>408</th>\n",
       "      <td>2012-02-12</td>\n",
       "      <td>1</td>\n",
       "      <td>1</td>\n",
       "      <td>2</td>\n",
       "      <td>0</td>\n",
       "      <td>0</td>\n",
       "      <td>0</td>\n",
       "      <td>1</td>\n",
       "      <td>0.127500</td>\n",
       "      <td>0.101658</td>\n",
       "      <td>0.464583</td>\n",
       "      <td>0.409212</td>\n",
       "      <td>73</td>\n",
       "      <td>1456</td>\n",
       "      <td>1529</td>\n",
       "    </tr>\n",
       "    <tr>\n",
       "      <th>421</th>\n",
       "      <td>2012-02-25</td>\n",
       "      <td>1</td>\n",
       "      <td>1</td>\n",
       "      <td>2</td>\n",
       "      <td>0</td>\n",
       "      <td>6</td>\n",
       "      <td>0</td>\n",
       "      <td>1</td>\n",
       "      <td>0.290833</td>\n",
       "      <td>0.255675</td>\n",
       "      <td>0.395833</td>\n",
       "      <td>0.421642</td>\n",
       "      <td>317</td>\n",
       "      <td>2415</td>\n",
       "      <td>2732</td>\n",
       "    </tr>\n",
       "    <tr>\n",
       "      <th>433</th>\n",
       "      <td>2012-03-08</td>\n",
       "      <td>1</td>\n",
       "      <td>1</td>\n",
       "      <td>3</td>\n",
       "      <td>0</td>\n",
       "      <td>4</td>\n",
       "      <td>1</td>\n",
       "      <td>1</td>\n",
       "      <td>0.527500</td>\n",
       "      <td>0.524604</td>\n",
       "      <td>0.567500</td>\n",
       "      <td>0.441563</td>\n",
       "      <td>486</td>\n",
       "      <td>4896</td>\n",
       "      <td>5382</td>\n",
       "    </tr>\n",
       "    <tr>\n",
       "      <th>434</th>\n",
       "      <td>2012-03-09</td>\n",
       "      <td>1</td>\n",
       "      <td>1</td>\n",
       "      <td>3</td>\n",
       "      <td>0</td>\n",
       "      <td>5</td>\n",
       "      <td>1</td>\n",
       "      <td>2</td>\n",
       "      <td>0.410833</td>\n",
       "      <td>0.397083</td>\n",
       "      <td>0.407083</td>\n",
       "      <td>0.414800</td>\n",
       "      <td>447</td>\n",
       "      <td>4122</td>\n",
       "      <td>4569</td>\n",
       "    </tr>\n",
       "    <tr>\n",
       "      <th>451</th>\n",
       "      <td>2012-03-26</td>\n",
       "      <td>2</td>\n",
       "      <td>1</td>\n",
       "      <td>3</td>\n",
       "      <td>0</td>\n",
       "      <td>1</td>\n",
       "      <td>1</td>\n",
       "      <td>1</td>\n",
       "      <td>0.445833</td>\n",
       "      <td>0.438750</td>\n",
       "      <td>0.477917</td>\n",
       "      <td>0.386821</td>\n",
       "      <td>795</td>\n",
       "      <td>4763</td>\n",
       "      <td>5558</td>\n",
       "    </tr>\n",
       "    <tr>\n",
       "      <th>667</th>\n",
       "      <td>2012-10-28</td>\n",
       "      <td>4</td>\n",
       "      <td>1</td>\n",
       "      <td>10</td>\n",
       "      <td>0</td>\n",
       "      <td>0</td>\n",
       "      <td>0</td>\n",
       "      <td>2</td>\n",
       "      <td>0.477500</td>\n",
       "      <td>0.467771</td>\n",
       "      <td>0.694583</td>\n",
       "      <td>0.398008</td>\n",
       "      <td>998</td>\n",
       "      <td>3461</td>\n",
       "      <td>4459</td>\n",
       "    </tr>\n",
       "    <tr>\n",
       "      <th>722</th>\n",
       "      <td>2012-12-22</td>\n",
       "      <td>1</td>\n",
       "      <td>1</td>\n",
       "      <td>12</td>\n",
       "      <td>0</td>\n",
       "      <td>6</td>\n",
       "      <td>0</td>\n",
       "      <td>1</td>\n",
       "      <td>0.265833</td>\n",
       "      <td>0.236113</td>\n",
       "      <td>0.441250</td>\n",
       "      <td>0.407346</td>\n",
       "      <td>205</td>\n",
       "      <td>1544</td>\n",
       "      <td>1749</td>\n",
       "    </tr>\n",
       "  </tbody>\n",
       "</table>\n",
       "</div>"
      ],
      "text/plain": [
       "             dteday  season  yr  mnth  holiday  weekday  workingday  \\\n",
       "instant                                                               \n",
       "45       2011-02-14       1   0     2        0        1           1   \n",
       "50       2011-02-19       1   0     2        0        6           0   \n",
       "69       2011-03-10       1   0     3        0        4           1   \n",
       "94       2011-04-04       2   0     4        0        1           1   \n",
       "95       2011-04-05       2   0     4        0        2           1   \n",
       "293      2011-10-20       4   0    10        0        4           1   \n",
       "383      2012-01-18       1   1     1        0        3           1   \n",
       "408      2012-02-12       1   1     2        0        0           0   \n",
       "421      2012-02-25       1   1     2        0        6           0   \n",
       "433      2012-03-08       1   1     3        0        4           1   \n",
       "434      2012-03-09       1   1     3        0        5           1   \n",
       "451      2012-03-26       2   1     3        0        1           1   \n",
       "667      2012-10-28       4   1    10        0        0           0   \n",
       "722      2012-12-22       1   1    12        0        6           0   \n",
       "\n",
       "         weathersit      temp     atemp       hum  windspeed  casual  \\\n",
       "instant                                                                \n",
       "45                1  0.415000  0.398350  0.375833   0.417908     208   \n",
       "50                1  0.399167  0.391404  0.187917   0.507463     532   \n",
       "69                3  0.389091  0.385668  0.000000   0.261877      46   \n",
       "94                1  0.573333  0.542929  0.426250   0.385571     734   \n",
       "95                2  0.414167  0.398350  0.642083   0.388067     167   \n",
       "293               1  0.475833  0.466525  0.636250   0.422275     471   \n",
       "383               1  0.303333  0.275254  0.443333   0.415429     109   \n",
       "408               1  0.127500  0.101658  0.464583   0.409212      73   \n",
       "421               1  0.290833  0.255675  0.395833   0.421642     317   \n",
       "433               1  0.527500  0.524604  0.567500   0.441563     486   \n",
       "434               2  0.410833  0.397083  0.407083   0.414800     447   \n",
       "451               1  0.445833  0.438750  0.477917   0.386821     795   \n",
       "667               2  0.477500  0.467771  0.694583   0.398008     998   \n",
       "722               1  0.265833  0.236113  0.441250   0.407346     205   \n",
       "\n",
       "         registered   cnt  \n",
       "instant                    \n",
       "45             1705  1913  \n",
       "50             1103  1635  \n",
       "69              577   623  \n",
       "94             2381  3115  \n",
       "95             1628  1795  \n",
       "293            3724  4195  \n",
       "383            3267  3376  \n",
       "408            1456  1529  \n",
       "421            2415  2732  \n",
       "433            4896  5382  \n",
       "434            4122  4569  \n",
       "451            4763  5558  \n",
       "667            3461  4459  \n",
       "722            1544  1749  "
      ]
     },
     "execution_count": 14,
     "metadata": {},
     "output_type": "execute_result"
    }
   ],
   "source": [
    "dataset_backup.loc[[45,50,69,94,95,293,383,408,421,433,434,451,667,722],:]"
   ]
  },
  {
   "cell_type": "code",
   "execution_count": 15,
   "metadata": {
    "ExecuteTime": {
     "end_time": "2019-05-29T16:40:25.569265Z",
     "start_time": "2019-05-29T16:40:25.346917Z"
    },
    "scrolled": true
   },
   "outputs": [
    {
     "data": {
      "image/png": "[encoded data removed]",
      "text/plain": [
       "<Figure size 432x288 with 1 Axes>"
      ]
     },
     "metadata": {
      "needs_background": "light"
     },
     "output_type": "display_data"
    }
   ],
   "source": [
    "#Ploting the Wind speed vs Humidity graph with lower and upper bound values.\n",
    "plt.scatter(dataset_backup.hum.values, dataset_backup.windspeed.values)\n",
    "plt.axhline(y=0.38, color='red')\n",
    "plt.axvline(x=0.2, color='red')\n",
    "plt.axvline(x=1.04, color='red')\n",
    "plt.xlabel('Humidity')\n",
    "plt.ylabel('Wind speed')\n",
    "plt.show()"
   ]
  },
  {
   "cell_type": "raw",
   "metadata": {},
   "source": [
    "Point having humidity zero is not possible. Thus, we can drop it. And the point having high wind speed and low humidity is a special case. Demonstrating that high wind speed lowers the atmospheric humidity."
   ]
  },
  {
   "cell_type": "code",
   "execution_count": 16,
   "metadata": {
    "ExecuteTime": {
     "end_time": "2019-05-29T16:40:25.576699Z",
     "start_time": "2019-05-29T16:40:25.571297Z"
    }
   },
   "outputs": [
    {
     "name": "stdout",
     "output_type": "stream",
     "text": [
      "(730, 15)\n"
     ]
    }
   ],
   "source": [
    "#Droping the outlier\n",
    "dataset=dataset.drop(index=[69], axis=0)\n",
    "print(dataset.shape)"
   ]
  },
  {
   "cell_type": "markdown",
   "metadata": {},
   "source": [
    "# Visualization"
   ]
  },
  {
   "cell_type": "code",
   "execution_count": 17,
   "metadata": {
    "ExecuteTime": {
     "end_time": "2019-05-29T16:40:27.817234Z",
     "start_time": "2019-05-29T16:40:25.578865Z"
    }
   },
   "outputs": [
    {
     "data": {
      "image/png": "[encoded data removed]",
      "text/plain": [
       "<Figure size 432x288 with 1 Axes>"
      ]
     },
     "metadata": {
      "needs_background": "light"
     },
     "output_type": "display_data"
    },
    {
     "data": {
      "image/png": "[encoded data removed]",
      "text/plain": [
       "<Figure size 432x288 with 1 Axes>"
      ]
     },
     "metadata": {
      "needs_background": "light"
     },
     "output_type": "display_data"
    },
    {
     "data": {
      "image/png": "[encoded data removed]",
      "text/plain": [
       "<Figure size 432x288 with 1 Axes>"
      ]
     },
     "metadata": {
      "needs_background": "light"
     },
     "output_type": "display_data"
    },
    {
     "data": {
      "image/png": "[encoded data removed]",
      "text/plain": [
       "<Figure size 432x288 with 1 Axes>"
      ]
     },
     "metadata": {
      "needs_background": "light"
     },
     "output_type": "display_data"
    },
    {
     "data": {
      "image/png": "[encoded data removed]",
      "text/plain": [
       "<Figure size 432x288 with 1 Axes>"
      ]
     },
     "metadata": {
      "needs_background": "light"
     },
     "output_type": "display_data"
    },
    {
     "data": {
      "image/png": "[encoded data removed]",
      "text/plain": [
       "<Figure size 432x288 with 1 Axes>"
      ]
     },
     "metadata": {
      "needs_background": "light"
     },
     "output_type": "display_data"
    },
    {
     "data": {
      "image/png": "[encoded data removed]",
      "text/plain": [
       "<Figure size 432x288 with 1 Axes>"
      ]
     },
     "metadata": {
      "needs_background": "light"
     },
     "output_type": "display_data"
    },
    {
     "data": {
      "image/png": "[encoded data removed]",
      "text/plain": [
       "<Figure size 432x288 with 1 Axes>"
      ]
     },
     "metadata": {
      "needs_background": "light"
     },
     "output_type": "display_data"
    },
    {
     "data": {
      "image/png": "[encoded data removed]",
      "text/plain": [
       "<Figure size 432x288 with 1 Axes>"
      ]
     },
     "metadata": {
      "needs_background": "light"
     },
     "output_type": "display_data"
    },
    {
     "data": {
      "image/png": "[encoded data removed]",
      "text/plain": [
       "<Figure size 432x288 with 1 Axes>"
      ]
     },
     "metadata": {
      "needs_background": "light"
     },
     "output_type": "display_data"
    },
    {
     "data": {
      "image/png": "[encoded data removed]",
      "text/plain": [
       "<Figure size 432x288 with 1 Axes>"
      ]
     },
     "metadata": {
      "needs_background": "light"
     },
     "output_type": "display_data"
    },
    {
     "data": {
      "image/png": "[encoded data removed]",
      "text/plain": [
       "<Figure size 432x288 with 1 Axes>"
      ]
     },
     "metadata": {
      "needs_background": "light"
     },
     "output_type": "display_data"
    },
    {
     "data": {
      "image/png": "[encoded data removed]",
      "text/plain": [
       "<Figure size 432x288 with 1 Axes>"
      ]
     },
     "metadata": {
      "needs_background": "light"
     },
     "output_type": "display_data"
    },
    {
     "data": {
      "image/png": "[encoded data removed]",
      "text/plain": [
       "<Figure size 432x288 with 1 Axes>"
      ]
     },
     "metadata": {
      "needs_background": "light"
     },
     "output_type": "display_data"
    }
   ],
   "source": [
    "#Blue line to show the data distribution and red line for the normal distribution of the curve\n",
    "for column in target_vars+cat_vars+cont_vars:\n",
    "    sb.distplot(dataset[column], hist=False, kde=True, \n",
    "             bins=dataset[column].unique().size, color = 'darkblue')\n",
    "    bins=np.array(range(int(min(dataset[column]))-10,int(max(dataset[column]))+10))\n",
    "    mu,sigma=dataset[column].mean(),dataset[column].std()\n",
    "    plt.plot(bins, 1/(sigma * np.sqrt(2 * np.pi)) *np.exp( - (bins - mu)**2 / (2 * sigma**2) ),color='red')\n",
    "    plt.savefig('./univariate analysis/'+column.replace('/',' ')+'.png')\n",
    "    plt.show()"
   ]
  },
  {
   "cell_type": "code",
   "execution_count": 18,
   "metadata": {
    "ExecuteTime": {
     "end_time": "2019-05-29T16:40:28.772113Z",
     "start_time": "2019-05-29T16:40:27.819391Z"
    },
    "scrolled": false
   },
   "outputs": [
    {
     "data": {
      "image/png": "[encoded data removed]",
      "text/plain": [
       "<Figure size 432x288 with 1 Axes>"
      ]
     },
     "metadata": {
      "needs_background": "light"
     },
     "output_type": "display_data"
    },
    {
     "data": {
      "image/png": "[encoded data removed]",
      "text/plain": [
       "<Figure size 432x288 with 1 Axes>"
      ]
     },
     "metadata": {
      "needs_background": "light"
     },
     "output_type": "display_data"
    },
    {
     "data": {
      "image/png": "[encoded data removed]",
      "text/plain": [
       "<Figure size 432x288 with 1 Axes>"
      ]
     },
     "metadata": {
      "needs_background": "light"
     },
     "output_type": "display_data"
    },
    {
     "data": {
      "image/png": "[encoded data removed]",
      "text/plain": [
       "<Figure size 432x288 with 1 Axes>"
      ]
     },
     "metadata": {
      "needs_background": "light"
     },
     "output_type": "display_data"
    },
    {
     "data": {
      "image/png": "[encoded data removed]",
      "text/plain": [
       "<Figure size 432x288 with 1 Axes>"
      ]
     },
     "metadata": {
      "needs_background": "light"
     },
     "output_type": "display_data"
    },
    {
     "data": {
      "image/png": "[encoded data removed]",
      "text/plain": [
       "<Figure size 432x288 with 1 Axes>"
      ]
     },
     "metadata": {
      "needs_background": "light"
     },
     "output_type": "display_data"
    },
    {
     "data": {
      "image/png": "[encoded data removed]",
      "text/plain": [
       "<Figure size 432x288 with 1 Axes>"
      ]
     },
     "metadata": {
      "needs_background": "light"
     },
     "output_type": "display_data"
    }
   ],
   "source": [
    "for col in cat_vars:\n",
    "#     dataset.groupby([col])['cnt'].count().plot.bar()\n",
    "#     plt.ylabel('Count of '+col)\n",
    "#     plt.savefig('./visualization/'+col+'_count.png')\n",
    "#     plt.show()\n",
    "#     dataset.groupby([col])['cnt'].sum().plot.bar()\n",
    "#     plt.ylabel('Sum of '+col)\n",
    "#     plt.savefig('./visualization/'+col+'_sum.png')\n",
    "#     plt.show()\n",
    "    dataset.groupby([col])['cnt'].mean().plot.bar()\n",
    "    plt.ylabel('Mean of Total Bike Rented')\n",
    "    plt.savefig('./visualization/'+col+'_mean.png')\n",
    "    plt.show()"
   ]
  },
  {
   "cell_type": "markdown",
   "metadata": {},
   "source": [
    "# Feature Selection"
   ]
  },
  {
   "cell_type": "code",
   "execution_count": 19,
   "metadata": {
    "ExecuteTime": {
     "end_time": "2019-05-29T16:40:29.043745Z",
     "start_time": "2019-05-29T16:40:28.774160Z"
    }
   },
   "outputs": [
    {
     "data": {
      "image/png": "[encoded data removed]",
      "text/plain": [
       "<Figure size 720x720 with 2 Axes>"
      ]
     },
     "metadata": {
      "needs_background": "light"
     },
     "output_type": "display_data"
    }
   ],
   "source": [
    "#Plot the correlation matrix\n",
    "f, ax = plt.subplots(figsize=(10, 10))\n",
    "sb.heatmap(dataset[cont_vars+target_vars].corr(), mask=np.zeros_like(dataset[cont_vars+target_vars].corr(), dtype=np.bool), cmap=sb.diverging_palette(220, 10, as_cmap=True),\n",
    "            square=True,ax=ax,annot=True)\n",
    "plt.show()"
   ]
  },
  {
   "cell_type": "code",
   "execution_count": 20,
   "metadata": {
    "ExecuteTime": {
     "end_time": "2019-05-29T16:40:29.052503Z",
     "start_time": "2019-05-29T16:40:29.046279Z"
    }
   },
   "outputs": [
    {
     "name": "stdout",
     "output_type": "stream",
     "text": [
      "(730, 13)\n"
     ]
    }
   ],
   "source": [
    "# Droping the instant which is ID and dteday column as the data incorporated by it is already in year and \n",
    "# month columns\n",
    "dataset=dataset.drop(labels=['dteday', 'temp'], axis=1)\n",
    "print(dataset.shape)"
   ]
  },
  {
   "cell_type": "markdown",
   "metadata": {},
   "source": [
    "# Predicting the values"
   ]
  },
  {
   "cell_type": "code",
   "execution_count": 21,
   "metadata": {
    "ExecuteTime": {
     "end_time": "2019-05-29T16:40:29.231652Z",
     "start_time": "2019-05-29T16:40:29.055335Z"
    }
   },
   "outputs": [],
   "source": [
    "# defining the error metrics\n",
    "def MAPE(y_pred, y_true):\n",
    "    y_true, y_pred = np.array(y_true), np.array(y_pred)\n",
    "    return np.mean(np.abs((y_true - y_pred) / y_true)) * 100"
   ]
  },
  {
   "cell_type": "code",
   "execution_count": 22,
   "metadata": {
    "ExecuteTime": {
     "end_time": "2019-05-29T16:40:29.379278Z",
     "start_time": "2019-05-29T16:40:29.234196Z"
    }
   },
   "outputs": [
    {
     "name": "stdout",
     "output_type": "stream",
     "text": [
      "(511, 10) (219, 10) (511,) (219,)\n"
     ]
    }
   ],
   "source": [
    "#Spliting the dataset for training and validation set\n",
    "X_train, X_validation, Y_train, Y_validation=train_test_split(dataset.iloc[:,:-3], dataset.iloc[:,-1], test_size=0.3, random_state=3)\n",
    "print(X_train.shape, X_validation.shape, Y_train.shape, Y_validation.shape)"
   ]
  },
  {
   "cell_type": "code",
   "execution_count": 23,
   "metadata": {
    "ExecuteTime": {
     "end_time": "2019-05-29T16:40:29.597339Z",
     "start_time": "2019-05-29T16:40:29.383663Z"
    }
   },
   "outputs": [
    {
     "name": "stdout",
     "output_type": "stream",
     "text": [
      "Training R2 Score by Random Forest 0.9533508118979579\n",
      "Training RMSE by Random Forest 424.41013617972885\n",
      "Training MAPE by Random Forest 31.462369350500058\n",
      "Validation R2 Score by Random Forest 0.8274677273596115\n",
      "Validation RMSE by Random Forest 768.8333043518553\n",
      "Validation MAPE by Random Forest 17.037418642378483\n"
     ]
    }
   ],
   "source": [
    "#Applying the random forest on total bike rentals\n",
    "name='Random Forest'\n",
    "model = RandomForestRegressor(n_estimators=25, max_depth=18, random_state=1, min_samples_leaf=1, min_samples_split=10 )\n",
    "model.fit(X_train,Y_train)\n",
    "predictions_train_1=model.predict(X_train)\n",
    "print(\"Training R2 Score by\",name ,model.score(X_train,Y_train))\n",
    "print(\"Training RMSE by\",name,mean_squared_error(Y_train,predictions_train_1)**0.5)\n",
    "print(\"Training MAPE by\",name,MAPE(predictions_train_1, Y_train.values))\n",
    "predictions_validation_1=model.predict(X_validation)\n",
    "print(\"Validation R2 Score by\",name,model.score(X_validation,Y_validation))\n",
    "print(\"Validation RMSE by\",name,mean_squared_error(Y_validation,predictions_validation_1)**0.5)\n",
    "print(\"Validation MAPE by\",name,MAPE(predictions_validation_1, Y_validation.values))"
   ]
  },
  {
   "cell_type": "code",
   "execution_count": 24,
   "metadata": {
    "ExecuteTime": {
     "end_time": "2019-05-29T16:40:29.805827Z",
     "start_time": "2019-05-29T16:40:29.600096Z"
    }
   },
   "outputs": [
    {
     "name": "stdout",
     "output_type": "stream",
     "text": [
      "            importance\n",
      "atemp         0.473640\n",
      "yr            0.284287\n",
      "season        0.093701\n",
      "hum           0.049912\n",
      "mnth          0.032165\n",
      "weathersit    0.026336\n",
      "windspeed     0.022859\n",
      "weekday       0.013067\n",
      "holiday       0.002231\n",
      "workingday    0.001802\n"
     ]
    }
   ],
   "source": [
    "#Getting the feature importance\n",
    "feature_importances = pd.DataFrame(model.feature_importances_,\n",
    "                                   index = X_train.columns,\n",
    "                                    columns=['importance']).sort_values('importance', ascending=False)\n",
    "print(feature_importances)"
   ]
  },
  {
   "cell_type": "code",
   "execution_count": 25,
   "metadata": {
    "ExecuteTime": {
     "end_time": "2019-05-29T16:42:43.583790Z",
     "start_time": "2019-05-29T16:40:29.816117Z"
    }
   },
   "outputs": [
    {
     "name": "stdout",
     "output_type": "stream",
     "text": [
      "Fitting 3 folds for each of 972 candidates, totalling 2916 fits\n"
     ]
    },
    {
     "name": "stderr",
     "output_type": "stream",
     "text": [
      "/home/sanket/.conda/envs/my_root/lib/python3.6/site-packages/sklearn/model_selection/_split.py:2053: FutureWarning: You should specify a value for 'cv' instead of relying on the default value. The default value will change from 3 to 5 in version 0.22.\n",
      "  warnings.warn(CV_WARNING, FutureWarning)\n",
      "[Parallel(n_jobs=-1)]: Using backend LokyBackend with 4 concurrent workers.\n",
      "[Parallel(n_jobs=-1)]: Done  42 tasks      | elapsed:    4.3s\n",
      "[Parallel(n_jobs=-1)]: Done 192 tasks      | elapsed:   11.0s\n",
      "[Parallel(n_jobs=-1)]: Done 442 tasks      | elapsed:   21.5s\n",
      "[Parallel(n_jobs=-1)]: Done 792 tasks      | elapsed:   37.3s\n",
      "[Parallel(n_jobs=-1)]: Done 1242 tasks      | elapsed:   57.8s\n",
      "[Parallel(n_jobs=-1)]: Done 1792 tasks      | elapsed:  1.4min\n",
      "[Parallel(n_jobs=-1)]: Done 2442 tasks      | elapsed:  1.9min\n"
     ]
    },
    {
     "name": "stdout",
     "output_type": "stream",
     "text": [
      "Best Score:  -1576288.2071430297\n",
      "Best Params:  {'max_depth': 15, 'min_samples_leaf': 1, 'min_samples_split': 2, 'n_estimators': 25, 'random_state': 5}\n"
     ]
    },
    {
     "name": "stderr",
     "output_type": "stream",
     "text": [
      "[Parallel(n_jobs=-1)]: Done 2916 out of 2916 | elapsed:  2.2min finished\n",
      "/home/sanket/.conda/envs/my_root/lib/python3.6/site-packages/sklearn/model_selection/_search.py:841: DeprecationWarning: The default of the `iid` parameter will change from True to False in version 0.22 and will be removed in 0.24. This will change numeric results when test-set sizes are unequal.\n",
      "  DeprecationWarning)\n"
     ]
    }
   ],
   "source": [
    "#Hyper parameter tunning\n",
    "n_estimators = [25, 50, 75]\n",
    "max_depth = [10, 11, 12, 13, 14 ,15, 16, 18, 19]\n",
    "min_samples_leaf = [1, 2, 3, 5, 7, 9]\n",
    "min_samples_split = [2, 4, 6, 10, 14, 18]\n",
    "\n",
    "param_grid = dict(n_estimators=n_estimators,\n",
    "                  max_depth=max_depth,\n",
    "                  min_samples_leaf=min_samples_leaf,\n",
    "                  min_samples_split=min_samples_split\n",
    "                 , random_state=[5])\n",
    "model=RandomForestRegressor()\n",
    "grid = GridSearchCV(estimator=model,\n",
    "                    param_grid=param_grid,\n",
    "                    scoring='neg_mean_squared_error',\n",
    "                    verbose=1,\n",
    "                    n_jobs=-1)\n",
    "grid_result = grid.fit(dataset.iloc[:,:-3], dataset.iloc[:,-1])\n",
    "\n",
    "print('Best Score: ', grid_result.best_score_)\n",
    "print('Best Params: ', grid_result.best_params_)"
   ]
  },
  {
   "cell_type": "code",
   "execution_count": 26,
   "metadata": {
    "ExecuteTime": {
     "end_time": "2019-05-29T16:42:43.641223Z",
     "start_time": "2019-05-29T16:42:43.587384Z"
    }
   },
   "outputs": [
    {
     "name": "stdout",
     "output_type": "stream",
     "text": [
      "Training R2 Score by XGBRegressor 0.9301071016016582\n",
      "Training RMSE by XGBRegressor 519.493631829153\n",
      "Training MAPE by XGBRegressor 26.23176560935432\n",
      "Validation R2 Score by XGBRegressor 0.8592058102240872\n",
      "Validation RMSE by XGBRegressor 694.5273982922414\n",
      "Validation MAPE by XGBRegressor 15.022689360341642\n"
     ]
    }
   ],
   "source": [
    "#Applying the XGBoost Regressor on total bike rentals\n",
    "name='XGBRegressor'\n",
    "model = XGBRegressor(colsample_bytree=0.8, gamma= 0.3, max_depth= 2, min_child_weight= 5, subsample= 0.8)\n",
    "model.fit(X_train,Y_train)\n",
    "predictions_train_2=model.predict(X_train)\n",
    "print(\"Training R2 Score by\",name ,model.score(X_train,Y_train))\n",
    "print(\"Training RMSE by\",name,mean_squared_error(Y_train,predictions_train_2)**0.5)\n",
    "print(\"Training MAPE by\",name,MAPE(predictions_train_2, Y_train.values))\n",
    "predictions_validation_2=model.predict(X_validation)\n",
    "print(\"Validation R2 Score by\",name,model.score(X_validation,Y_validation))\n",
    "print(\"Validation RMSE by\",name,mean_squared_error(Y_validation,predictions_validation_2)**0.5)\n",
    "print(\"Validation MAPE by\",name,MAPE(predictions_validation_2, Y_validation.values))"
   ]
  },
  {
   "cell_type": "code",
   "execution_count": 27,
   "metadata": {
    "ExecuteTime": {
     "end_time": "2019-05-29T16:45:29.584292Z",
     "start_time": "2019-05-29T16:42:43.643725Z"
    }
   },
   "outputs": [
    {
     "name": "stderr",
     "output_type": "stream",
     "text": [
      "/home/sanket/.conda/envs/my_root/lib/python3.6/site-packages/sklearn/model_selection/_split.py:2053: FutureWarning: You should specify a value for 'cv' instead of relying on the default value. The default value will change from 3 to 5 in version 0.22.\n",
      "  warnings.warn(CV_WARNING, FutureWarning)\n"
     ]
    },
    {
     "name": "stdout",
     "output_type": "stream",
     "text": [
      "Fitting 3 folds for each of 1800 candidates, totalling 5400 fits\n"
     ]
    },
    {
     "name": "stderr",
     "output_type": "stream",
     "text": [
      "[Parallel(n_jobs=-1)]: Using backend LokyBackend with 4 concurrent workers.\n",
      "[Parallel(n_jobs=-1)]: Done 144 tasks      | elapsed:    2.9s\n",
      "[Parallel(n_jobs=-1)]: Done 744 tasks      | elapsed:   20.4s\n",
      "[Parallel(n_jobs=-1)]: Done 1744 tasks      | elapsed:   48.8s\n",
      "[Parallel(n_jobs=-1)]: Done 3144 tasks      | elapsed:  1.5min\n",
      "[Parallel(n_jobs=-1)]: Done 4944 tasks      | elapsed:  2.4min\n"
     ]
    },
    {
     "name": "stdout",
     "output_type": "stream",
     "text": [
      "Best Score:  -732866.4626116287\n",
      "Best Params:  {'colsample_bytree': 0.6, 'gamma': 0.3, 'max_depth': 3, 'min_child_weight': 2, 'random_state': 1, 'subsample': 0.6}\n"
     ]
    },
    {
     "name": "stderr",
     "output_type": "stream",
     "text": [
      "[Parallel(n_jobs=-1)]: Done 5400 out of 5400 | elapsed:  2.8min finished\n",
      "/home/sanket/.conda/envs/my_root/lib/python3.6/site-packages/sklearn/model_selection/_search.py:841: DeprecationWarning: The default of the `iid` parameter will change from True to False in version 0.22 and will be removed in 0.24. This will change numeric results when test-set sizes are unequal.\n",
      "  DeprecationWarning)\n"
     ]
    }
   ],
   "source": [
    "#Hyper parameter tunning\n",
    "param_grid = {'min_child_weight':[1, 2, 4,5], 'gamma':[i/10.0 for i in range(3,6)],  'subsample':[i/10.0 for i in range(6,11)],\n",
    "'colsample_bytree':[i/10.0 for i in range(6,11)], 'max_depth': [2,3,4,5,8,11], 'random_state':[1]}\n",
    "model=XGBRegressor()\n",
    "grid = GridSearchCV(estimator=model,\n",
    "                    param_grid=param_grid,\n",
    "                    scoring='neg_mean_squared_error',\n",
    "                    verbose=1,\n",
    "                    n_jobs=-1)\n",
    "grid_result = grid.fit(dataset.iloc[:,:-3], dataset.iloc[:,-1])\n",
    "\n",
    "print('Best Score: ', grid_result.best_score_)\n",
    "print('Best Params: ', grid_result.best_params_)"
   ]
  },
  {
   "cell_type": "code",
   "execution_count": 28,
   "metadata": {
    "ExecuteTime": {
     "end_time": "2019-05-29T16:45:29.598610Z",
     "start_time": "2019-05-29T16:45:29.586450Z"
    }
   },
   "outputs": [
    {
     "name": "stdout",
     "output_type": "stream",
     "text": [
      "(511, 10) (219, 10) (511,) (219,)\n"
     ]
    }
   ],
   "source": [
    "#Spliting the dataset for training and validation set\n",
    "X_train, X_validation, Y_train_registered, Y_validation_registered=train_test_split(dataset.iloc[:,:-3], dataset.iloc[:,-2], test_size=0.3, random_state=3)\n",
    "print(X_train.shape, X_validation.shape, Y_train_registered.shape, Y_validation_registered.shape)"
   ]
  },
  {
   "cell_type": "code",
   "execution_count": 29,
   "metadata": {
    "ExecuteTime": {
     "end_time": "2019-05-29T16:45:29.946809Z",
     "start_time": "2019-05-29T16:45:29.601360Z"
    }
   },
   "outputs": [
    {
     "name": "stdout",
     "output_type": "stream",
     "text": [
      "Training R2 Score by Random Forest 0.9481421616518408\n",
      "Training RMSE by Random Forest 358.6106661051497\n",
      "Training MAPE by Random Forest 27.964668419905635\n",
      "Validation R2 Score by Random Forest 0.8606237680305661\n",
      "Validation RMSE by Random Forest 564.3147028141509\n",
      "Validation MAPE by Random Forest 16.15809160532095\n"
     ]
    }
   ],
   "source": [
    "#Applying the random forest on registered bike rentals\n",
    "name='Random Forest'\n",
    "model = RandomForestRegressor(n_estimators=25, max_depth=18, random_state=1, min_samples_leaf=1, min_samples_split=10)\n",
    "model.fit(X_train,Y_train_registered)\n",
    "predictions_registered_train_1=model.predict(X_train)\n",
    "print(\"Training R2 Score by\",name ,model.score(X_train,Y_train_registered))\n",
    "print(\"Training RMSE by\",name,mean_squared_error(Y_train_registered,predictions_registered_train_1)**0.5)\n",
    "print(\"Training MAPE by\",name,MAPE(predictions_registered_train_1, Y_train_registered.values))\n",
    "predictions_registered_validation_1=model.predict(X_validation)\n",
    "print(\"Validation R2 Score by\",name,model.score(X_validation,Y_validation_registered))\n",
    "print(\"Validation RMSE by\",name,mean_squared_error(Y_validation_registered, predictions_registered_validation_1)**0.5)\n",
    "print(\"Validation MAPE by\",name,MAPE(predictions_registered_validation_1, Y_validation_registered.values))"
   ]
  },
  {
   "cell_type": "code",
   "execution_count": 30,
   "metadata": {
    "ExecuteTime": {
     "end_time": "2019-05-29T16:45:30.001076Z",
     "start_time": "2019-05-29T16:45:29.949124Z"
    }
   },
   "outputs": [
    {
     "name": "stdout",
     "output_type": "stream",
     "text": [
      "Training R2 Score by XGBRegressor 0.9235884029763031\n",
      "Training RMSE by XGBRegressor 435.3069851378908\n",
      "Training MAPE by XGBRegressor 28.478580993922037\n",
      "Validation R2 Score by XGBRegressor 0.8808490421594816\n",
      "Validation RMSE by XGBRegressor 521.7659992704981\n",
      "Validation MAPE by XGBRegressor 14.062612324916692\n"
     ]
    }
   ],
   "source": [
    "#Applying the XGBoostRegressor on registered bike rentals\n",
    "name='XGBRegressor'\n",
    "model = XGBRegressor(colsample_bytree=0.8, gamma= 0.3, max_depth= 2, min_child_weight= 5, subsample= 0.8)\n",
    "model.fit(X_train,Y_train_registered)\n",
    "predictions_registered_train_2=model.predict(X_train)\n",
    "print(\"Training R2 Score by\",name ,model.score(X_train,Y_train_registered))\n",
    "print(\"Training RMSE by\",name,mean_squared_error(Y_train_registered,predictions_registered_train_2)**0.5)\n",
    "print(\"Training MAPE by\",name,MAPE(predictions_registered_train_2, Y_train_registered.values))\n",
    "predictions_registered_validation_2=model.predict(X_validation)\n",
    "print(\"Validation R2 Score by\",name,model.score(X_validation,Y_validation_registered))\n",
    "print(\"Validation RMSE by\",name,mean_squared_error(Y_validation_registered, predictions_registered_validation_2)**0.5)\n",
    "print(\"Validation MAPE by\",name,MAPE(predictions_registered_validation_2, Y_validation_registered.values))"
   ]
  },
  {
   "cell_type": "code",
   "execution_count": 31,
   "metadata": {
    "ExecuteTime": {
     "end_time": "2019-05-29T16:45:30.108194Z",
     "start_time": "2019-05-29T16:45:30.003692Z"
    }
   },
   "outputs": [
    {
     "name": "stdout",
     "output_type": "stream",
     "text": [
      "(511, 10) (219, 10) (511,) (219,)\n"
     ]
    }
   ],
   "source": [
    "#Spliting the dataset for training and validation set\n",
    "X_train, X_validation, Y_train_casual, Y_validation_casual=train_test_split(dataset.iloc[:,:-3], dataset.iloc[:,-3], test_size=0.3, random_state=3)\n",
    "print(X_train.shape, X_validation.shape, Y_train_casual.shape, Y_validation_casual.shape)"
   ]
  },
  {
   "cell_type": "code",
   "execution_count": 32,
   "metadata": {
    "ExecuteTime": {
     "end_time": "2019-05-29T16:45:30.349258Z",
     "start_time": "2019-05-29T16:45:30.114666Z"
    }
   },
   "outputs": [
    {
     "name": "stdout",
     "output_type": "stream",
     "text": [
      "Training R2 Score by Random Forest 0.9380755347361546\n",
      "Training RMSE by Random Forest 179.02657417094932\n",
      "Training MAPE by Random Forest 55.534188150340945\n",
      "Validation R2 Score by Random Forest 0.7139426347305398\n",
      "Validation RMSE by Random Forest 319.67729674366745\n",
      "Validation MAPE by Random Forest 38.644465566471304\n"
     ]
    }
   ],
   "source": [
    "#Applying the random forest on casual bike rentals\n",
    "name='Random Forest'\n",
    "model = RandomForestRegressor(n_estimators=25, max_depth=18, random_state=1, min_samples_leaf=1, min_samples_split=10)\n",
    "model.fit(X_train,Y_train_casual)\n",
    "predictions_casual_train_1=model.predict(X_train)\n",
    "print(\"Training R2 Score by\",name ,model.score(X_train,Y_train_casual))\n",
    "print(\"Training RMSE by\",name,mean_squared_error(Y_train_casual,predictions_casual_train_1)**0.5)\n",
    "print(\"Training MAPE by\",name,MAPE(predictions_casual_train_1, Y_train_casual.values))\n",
    "predictions_casual_validation_1=model.predict(X_validation)\n",
    "print(\"Validation R2 Score by\",name,model.score(X_validation,Y_validation_casual))\n",
    "print(\"Validation RMSE by\",name,mean_squared_error(Y_validation_casual, predictions_casual_validation_1)**0.5)\n",
    "print(\"Validation MAPE by\",name,MAPE(predictions_casual_validation_1, Y_validation_casual.values))"
   ]
  },
  {
   "cell_type": "code",
   "execution_count": 33,
   "metadata": {
    "ExecuteTime": {
     "end_time": "2019-05-29T16:45:30.430397Z",
     "start_time": "2019-05-29T16:45:30.352091Z"
    }
   },
   "outputs": [
    {
     "name": "stdout",
     "output_type": "stream",
     "text": [
      "Training R2 Score by XGBRegressor 0.8995005360253132\n",
      "Training RMSE by XGBRegressor 228.0700413699325\n",
      "Training MAPE by XGBRegressor 42.07992095051003\n",
      "Validation R2 Score by XGBRegressor 0.741077930122897\n",
      "Validation RMSE by XGBRegressor 304.1373531580402\n",
      "Validation MAPE by XGBRegressor 38.15515572271872\n"
     ]
    }
   ],
   "source": [
    "#Applying the random forest on registered bike rentals\n",
    "name='XGBRegressor'\n",
    "model = XGBRegressor(colsample_bytree=0.8, gamma= 0.3, max_depth= 2, min_child_weight= 5, subsample= 0.8)\n",
    "model.fit(X_train,Y_train_casual)\n",
    "predictions_casual_train_2=model.predict(X_train)\n",
    "print(\"Training R2 Score by\",name ,model.score(X_train,Y_train_casual))\n",
    "print(\"Training RMSE by\",name,mean_squared_error(Y_train_casual,predictions_casual_train_2)**0.5)\n",
    "print(\"Training MAPE by\",name,MAPE(predictions_casual_train_2, Y_train_casual.values))\n",
    "predictions_casual_validation_2=model.predict(X_validation)\n",
    "print(\"Validation R2 Score by\",name,model.score(X_validation,Y_validation_casual))\n",
    "print(\"Validation RMSE by\",name,mean_squared_error(Y_validation_casual, predictions_casual_validation_2)**0.5)\n",
    "print(\"Validation MAPE by\",name,MAPE(predictions_casual_validation_2, Y_validation_casual.values))"
   ]
  },
  {
   "cell_type": "code",
   "execution_count": 34,
   "metadata": {
    "ExecuteTime": {
     "end_time": "2019-05-29T16:45:30.452360Z",
     "start_time": "2019-05-29T16:45:30.432385Z"
    },
    "scrolled": true
   },
   "outputs": [
    {
     "name": "stdout",
     "output_type": "stream",
     "text": [
      "Training RMSE by Random Forest 432.63666498078726\n",
      "Training MAPE by Random Forest 29.08433722899308\n",
      "Validation RMSE by Random Forest 742.93529810092\n",
      "Validation MAPE by Random Forest 16.546253443980223\n"
     ]
    }
   ],
   "source": [
    "#Adding the casual and registered predictions and testing there performance\n",
    "name='Random Forest'\n",
    "predictions_train=predictions_casual_train_1+predictions_registered_train_1\n",
    "print(\"Training RMSE by\",name,mean_squared_error(Y_train,predictions_train)**0.5)\n",
    "print(\"Training MAPE by\",name,MAPE(predictions_train, Y_train.values))\n",
    "predictions_validation=predictions_casual_validation_1+predictions_registered_validation_1\n",
    "print(\"Validation RMSE by\",name,mean_squared_error(Y_validation,predictions_validation)**0.5)\n",
    "print(\"Validation MAPE by\",name,MAPE(predictions_validation, Y_validation.values))"
   ]
  },
  {
   "cell_type": "code",
   "execution_count": 35,
   "metadata": {
    "ExecuteTime": {
     "end_time": "2019-05-29T16:45:30.589475Z",
     "start_time": "2019-05-29T16:45:30.454763Z"
    }
   },
   "outputs": [
    {
     "name": "stdout",
     "output_type": "stream",
     "text": [
      "Training RMSE by Random Forest 417.9939562486146\n",
      "Training MAPE by Random Forest 30.044598318688177\n",
      "Validation RMSE by Random Forest 741.5534255014708\n",
      "Validation MAPE by Random Forest 16.457185012902784\n"
     ]
    }
   ],
   "source": [
    "#Taking the predictions from the sum and predictions of total count and taking their averages\n",
    "name='Random Forest'\n",
    "predictions_train_ensemble=(predictions_train+predictions_train_1)/2\n",
    "print(\"Training RMSE by\",name,mean_squared_error(Y_train,predictions_train_ensemble)**0.5)\n",
    "print(\"Training MAPE by\",name,MAPE(predictions_train_ensemble, Y_train.values))\n",
    "predictions_validation_ensemble=(predictions_validation+predictions_validation_1)/2\n",
    "print(\"Validation RMSE by\",name,mean_squared_error(Y_validation,predictions_validation_ensemble)**0.5)\n",
    "print(\"Validation MAPE by\",name,MAPE(predictions_validation_ensemble, Y_validation.values))"
   ]
  },
  {
   "cell_type": "code",
   "execution_count": 36,
   "metadata": {
    "ExecuteTime": {
     "end_time": "2019-05-29T16:45:30.674857Z",
     "start_time": "2019-05-29T16:45:30.593542Z"
    }
   },
   "outputs": [
    {
     "name": "stdout",
     "output_type": "stream",
     "text": [
      "Training RMSE by XGBRegressor 518.5340415254967\n",
      "Training MAPE by XGBRegressor 26.902463670312326\n",
      "Validation RMSE by XGBRegressor 680.0804160686172\n",
      "Validation MAPE by XGBRegressor 14.204155599156437\n"
     ]
    }
   ],
   "source": [
    "#Adding the casual and registered predictions and testing there performance\n",
    "name='XGBRegressor'\n",
    "predictions_train=predictions_casual_train_2+predictions_registered_train_2\n",
    "print(\"Training RMSE by\",name,mean_squared_error(Y_train,predictions_train)**0.5)\n",
    "print(\"Training MAPE by\",name,MAPE(predictions_train, Y_train.values))\n",
    "predictions_validation=predictions_casual_validation_2+predictions_registered_validation_2\n",
    "print(\"Validation RMSE by\",name,mean_squared_error(Y_validation,predictions_validation)**0.5)\n",
    "print(\"Validation MAPE by\",name,MAPE(predictions_validation, Y_validation.values))"
   ]
  },
  {
   "cell_type": "code",
   "execution_count": 37,
   "metadata": {
    "ExecuteTime": {
     "end_time": "2019-05-29T16:45:30.756729Z",
     "start_time": "2019-05-29T16:45:30.681070Z"
    }
   },
   "outputs": [
    {
     "name": "stdout",
     "output_type": "stream",
     "text": [
      "Training RMSE by XGBRegressor 511.4253965517144\n",
      "Training MAPE by XGBRegressor 26.27222818007478\n",
      "Validation RMSE by XGBRegressor 679.6230612941202\n",
      "Validation MAPE by XGBRegressor 14.41851720889298\n"
     ]
    }
   ],
   "source": [
    "#Taking the predictions from the sum and predictions of total count and taking their averages\n",
    "name='XGBRegressor'\n",
    "predictions_train_ensemble=(predictions_train+predictions_train_2)/2\n",
    "print(\"Training RMSE by\",name,mean_squared_error(Y_train,predictions_train_ensemble)**0.5)\n",
    "print(\"Training MAPE by\",name,MAPE(predictions_train_ensemble, Y_train.values))\n",
    "predictions_validation_ensemble=(predictions_validation+predictions_validation_2)/2\n",
    "print(\"Validation RMSE by\",name,mean_squared_error(Y_validation,predictions_validation_ensemble)**0.5)\n",
    "print(\"Validation MAPE by\",name,MAPE(predictions_validation_ensemble, Y_validation.values))"
   ]
  },
  {
   "cell_type": "raw",
   "metadata": {},
   "source": [
    "XGBoost is best with custom ensemble(Taking the predictions from the sum and predictions of total count and taking their averages)"
   ]
  }
 ],
 "metadata": {
  "kernelspec": {
   "display_name": "Python 3",
   "language": "python",
   "name": "python3"
  },
  "language_info": {
   "codemirror_mode": {
    "name": "ipython",
    "version": 3
   },
   "file_extension": ".py",
   "mimetype": "text/x-python",
   "name": "python",
   "nbconvert_exporter": "python",
   "pygments_lexer": "ipython3",
   "version": "3.6.6"
  }
 },
 "nbformat": 4,
 "nbformat_minor": 2
}
